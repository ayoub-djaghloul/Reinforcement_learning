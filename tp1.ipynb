{
 "cells": [
  {
   "cell_type": "markdown",
   "metadata": {},
   "source": [
    "Importations initiales\n"
   ]
  },
  {
   "cell_type": "code",
   "execution_count": 1,
   "metadata": {},
   "outputs": [
    {
     "name": "stdout",
     "output_type": "stream",
     "text": [
      "Vecteur p : [1, 1, 0.35999999999999993, 0]\n",
      "Valeur de alpha : 2.36\n"
     ]
    }
   ],
   "source": [
    "def relever_coefficients(c, class_coeffs):\n",
    "    p = []  # Vecteur p pour stocker les fractions de classes admises\n",
    "    remaining_capacity = c  # Capacité restante du canal\n",
    "    \n",
    "    for coeff in class_coeffs:\n",
    "        if remaining_capacity >= coeff:\n",
    "            # Accepter toute la classe\n",
    "            p.append(1)\n",
    "            remaining_capacity -= coeff\n",
    "        else:\n",
    "            # Accepter seulement une fraction de la classe\n",
    "            p.append(remaining_capacity / coeff)\n",
    "            remaining_capacity = 0  # Plus de capacité après cette fraction\n",
    "            break\n",
    "    \n",
    "    # Ajouter 0 pour les classes restantes (non admises)\n",
    "    while len(p) < len(class_coeffs):\n",
    "        p.append(0)\n",
    "    \n",
    "    # Alpha est la somme des coefficients admis\n",
    "    alpha = sum(p)\n",
    "    \n",
    "    return p, alpha\n",
    "\n",
    "# Exemple d'utilisation\n",
    "c = 0.5\n",
    "class_coeffs = [0.33, 0.08, 0.25, 0.34]  # Coefficients des classes\n",
    "\n",
    "# Calculer le vecteur p et la valeur de alpha\n",
    "p_vector, alpha_value = relever_coefficients(c, class_coeffs)\n",
    "print(f\"Vecteur p : {p_vector}\")\n",
    "print(f\"Valeur de alpha : {alpha_value}\")\n"
   ]
  },
  {
   "cell_type": "code",
   "execution_count": 2,
   "metadata": {},
   "outputs": [
    {
     "name": "stdout",
     "output_type": "stream",
     "text": [
      "Admitted Packets: 100513\n",
      "Average Reward: 40.32\n",
      "Alpha (sum of accepted coefficients): 4.00\n"
     ]
    }
   ],
   "source": [
    "import numpy as np\n",
    "\n",
    "class PacketAdmissionControl:\n",
    "    def __init__(self, lambda_rate, class_rewards, class_probs, capacity_ratio, time_window):\n",
    "        self.lambda_rate = lambda_rate  # Taux de processus Poisson (paquets par seconde)\n",
    "        self.class_rewards = np.array(class_rewards)  # Récompenses pour chaque classe\n",
    "        self.class_probs = np.array(class_probs)  # Probabilités pour chaque classe\n",
    "        self.capacity = capacity_ratio * lambda_rate  # Capacité du canal\n",
    "        self.time_window = time_window  # Fenêtre temporelle pour l'échantillonnage\n",
    "        self.num_classes = len(class_rewards)  # Nombre de classes de jobs\n",
    "    \n",
    "    def generate_packet_class(self):\n",
    "        # Simuler la classe à laquelle appartient un paquet en fonction des probabilités de classe\n",
    "        return np.random.choice(self.num_classes, p=self.class_probs)\n",
    "    \n",
    "    def knapsack_optimal_policy(self):\n",
    "        # Trier les classes par récompense décroissante\n",
    "        sorted_indices = np.argsort(-self.class_rewards)\n",
    "        sorted_rewards = self.class_rewards[sorted_indices]\n",
    "        sorted_probs = self.class_probs[sorted_indices]\n",
    "        \n",
    "        # Initialisation\n",
    "        total_capacity = self.capacity\n",
    "        total_reward = 0.0\n",
    "        optimal_policy = [0] * self.num_classes  # Initialiser avec \"ne pas admettre\" pour toutes les classes\n",
    "        alpha = 0.0  # Somme des fractions des classes acceptées\n",
    "        \n",
    "        for i in range(self.num_classes):\n",
    "            if sorted_probs[i] <= total_capacity:\n",
    "                # Admettre la classe entière si la capacité est suffisante\n",
    "                total_capacity -= sorted_probs[i]\n",
    "                total_reward += sorted_rewards[i]\n",
    "                optimal_policy[sorted_indices[i]] = 1  # Accepter\n",
    "                alpha += 1  # Classe entièrement acceptée\n",
    "            else:\n",
    "                # Admettre une fraction de la classe si la capacité n'est pas suffisante\n",
    "                fraction = total_capacity / sorted_probs[i]\n",
    "                total_reward += sorted_rewards[i] * fraction\n",
    "                optimal_policy[sorted_indices[i]] = fraction\n",
    "                alpha += fraction  # Ajouter la fraction acceptée à alpha\n",
    "                break  # Plus de capacité disponible\n",
    "        \n",
    "        return optimal_policy, total_reward, alpha\n",
    "\n",
    "    def run_simulation(self):\n",
    "        # Exécuter la simulation sur la fenêtre temporelle T et calculer la politique optimale\n",
    "        arrivals = np.random.poisson(self.lambda_rate * self.time_window)\n",
    "        admitted_packets = 0\n",
    "        total_reward = 0.0\n",
    "        alpha_total = 0.0\n",
    "\n",
    "        for _ in range(arrivals):\n",
    "            packet_class = self.generate_packet_class()\n",
    "            packet_reward = self.class_rewards[packet_class]\n",
    "            policy, reward, alpha = self.knapsack_optimal_policy()\n",
    "            if policy[packet_class] > 0:\n",
    "                admitted_packets += 1\n",
    "                total_reward += packet_reward\n",
    "            alpha_total = alpha  # Mettre à jour alpha à chaque exécution pour obtenir la valeur finale\n",
    "\n",
    "        return admitted_packets, total_reward / admitted_packets if admitted_packets > 0 else 0, alpha_total\n",
    "\n",
    "# Paramètres basés sur la Table 1\n",
    "lambda_rate = 10**5  # Paquets par seconde (100 000 paquets par seconde)\n",
    "class_rewards = [100, 50, 10, 1]  # Récompenses pour chaque classe\n",
    "class_probs = [1/3, 1/12, 1/4, 1/3]  # Probabilités pour chaque classe\n",
    "capacity_ratio = 0.5  # c = 1/2\n",
    "time_window = 1  # Échantillonner toutes les 1 seconde\n",
    "\n",
    "# Initialiser et exécuter la simulation\n",
    "admission_control = PacketAdmissionControl(lambda_rate, class_rewards, class_probs, capacity_ratio, time_window)\n",
    "admitted_packets, avg_reward, alpha = admission_control.run_simulation()\n",
    "\n",
    "print(f\"Admitted Packets: {admitted_packets}\")\n",
    "print(f\"Average Reward: {avg_reward:.2f}\")\n",
    "print(f\"Alpha (sum of accepted coefficients): {alpha:.2f}\")\n"
   ]
  },
  {
   "cell_type": "code",
   "execution_count": 1,
   "metadata": {},
   "outputs": [],
   "source": [
    "import numpy as np\n",
    "import matplotlib.pyplot as plt\n"
   ]
  },
  {
   "cell_type": "markdown",
   "metadata": {},
   "source": [
    "Variables globales et initialisation\n"
   ]
  },
  {
   "cell_type": "code",
   "execution_count": 23,
   "metadata": {},
   "outputs": [],
   "source": [
    "# Paramètres du problème\n",
    "N = 4  # Nombre de classes de jobs\n",
    "r = np.array([100, 50, 10, 1])  # Récompenses des jobs\n",
    "p = np.array([1/3, 1/12, 1/4, 1/3])  # Distribution des probabilités\n",
    "λ = pow(10,5)  # Taux d'arrivée des paquets (packets par seconde)\n",
    "c = 0.5 * λ  # Capacité du canal\n",
    "\n",
    "# Simulation setup\n",
    "np.random.seed(42)  # Pour la reproductibilité\n",
    "T = 10000  # Temps total de simulation (secondes)\n",
    "job_arrivals = np.random.poisson(λ, T)  # Arrivée de paquets selon un processus de Poisson\n"
   ]
  },
  {
   "cell_type": "markdown",
   "metadata": {},
   "source": [
    "### Tâche 1: Politique stationnaire optimale (Knapsack Fractionnaire)\n",
    "#### Le problème ici est d’admettre les paquets en fonction de la récompense et de la capacité du canal.\n",
    "\n"
   ]
  },
  {
   "cell_type": "code",
   "execution_count": 24,
   "metadata": {},
   "outputs": [
    {
     "name": "stdout",
     "output_type": "stream",
     "text": [
      "Récompense optimale obtenue: 3833333.333333333\n"
     ]
    }
   ],
   "source": [
    "def optimal_threshold_policy(r, c, job_arrivals, p):\n",
    "    # Trier les classes par récompense décroissante\n",
    "    sorted_indices = np.argsort(-r)\n",
    "    sorted_r = r[sorted_indices]\n",
    "    sorted_p = p[sorted_indices]\n",
    "    \n",
    "    # Calculer le nombre de paquets arrivant par classe en utilisant le taux λ\n",
    "    job_arrivals = λ * sorted_p  # Paquets par classe (proportionnel à p)\n",
    "\n",
    "    # Implémentation du problème du sac à dos fractionnaire\n",
    "    total_packets = 0\n",
    "    admitted_reward = 0\n",
    "    for i in range(N):\n",
    "        if total_packets + job_arrivals[i] <= c:\n",
    "            total_packets += job_arrivals[i]\n",
    "            admitted_reward += job_arrivals[i] * sorted_r[i]\n",
    "        else:\n",
    "            # Admettre une partie de la dernière classe possible\n",
    "            remaining_capacity = c - total_packets\n",
    "            admitted_reward += remaining_capacity * sorted_r[i]\n",
    "            break\n",
    "            \n",
    "    return admitted_reward\n",
    "\n",
    "# Appliquer la politique optimale\n",
    "optimal_reward = optimal_threshold_policy(r, c, job_arrivals, p)\n",
    "print(f\"Récompense optimale obtenue: {optimal_reward}\")\n"
   ]
  },
  {
   "cell_type": "code",
   "execution_count": 26,
   "metadata": {},
   "outputs": [
    {
     "name": "stdout",
     "output_type": "stream",
     "text": [
      "Capacité du canal: 50000.0\n",
      "Taux d'arrivée par classe: [33333.33333333  8333.33333333 25000.         33333.33333333]\n",
      "Taux d'admission optimal par classe: [33333.33333333  8333.33333333  8333.33333333     0.        ]\n",
      "Répartition des classes admises: [1.         1.         0.33333333 0.        ]\n"
     ]
    }
   ],
   "source": [
    "import numpy as np\n",
    "\n",
    "# Paramètres du problème\n",
    "lambda_packets = 10**5  # Taux d'arrivée des paquets (pkts/s)\n",
    "c = 0.5 * lambda_packets  # Capacité du canal\n",
    "\n",
    "# Paramètres des classes\n",
    "N = 4  # Nombre de classes\n",
    "r = np.array([100, 50, 10, 1])  # Récompenses pour chaque classe\n",
    "p = np.array([1/3, 1/12, 1/4, 1/3])  # Probabilités pour chaque classe\n",
    "\n",
    "# Calcul des arrivées pour chaque classe\n",
    "arrival_rates = p * lambda_packets\n",
    "\n",
    "# Résolution du problème de sac à dos fractionnaire\n",
    "def solve_fractional_knapsack(arrival_rates, rewards, capacity):\n",
    "    # Trier les classes par récompense décroissante\n",
    "    sorted_indices = np.argsort(rewards)[::-1]\n",
    "    sorted_arrival_rates = arrival_rates[sorted_indices]\n",
    "    sorted_rewards = rewards[sorted_indices]\n",
    "    \n",
    "    admitted_rates = np.zeros_like(arrival_rates)\n",
    "    total_admitted = 0.0\n",
    "    \n",
    "    # Admettre les paquets jusqu'à atteindre la capacité\n",
    "    for i in range(len(sorted_arrival_rates)):\n",
    "        if total_admitted + sorted_arrival_rates[i] <= capacity:\n",
    "            admitted_rates[sorted_indices[i]] = sorted_arrival_rates[i]\n",
    "            total_admitted += sorted_arrival_rates[i]\n",
    "        else:\n",
    "            # Admettre une fraction de la classe actuelle\n",
    "            admitted_rates[sorted_indices[i]] = capacity - total_admitted\n",
    "            break\n",
    "    \n",
    "    return admitted_rates\n",
    "\n",
    "# Calcul des paquets admis\n",
    "admitted_rates = solve_fractional_knapsack(arrival_rates, r, c)\n",
    "\n",
    "# Affichage des résultats\n",
    "print(\"Capacité du canal:\", c)\n",
    "print(\"Taux d'arrivée par classe:\", arrival_rates)\n",
    "print(\"Taux d'admission optimal par classe:\", admitted_rates)\n",
    "print(\"Répartition des classes admises:\", admitted_rates / arrival_rates)\n",
    "\n",
    "\n"
   ]
  },
  {
   "cell_type": "markdown",
   "metadata": {},
   "source": [
    "Tâche 2: Algorithme de Robbins-Monro avec pas décroissant\n",
    "Cet algorithme ajuste les probabilités d'admission avec un taux d’apprentissage qui décroît au fil des itérations pour équilibrer la vitesse de convergence avec la tolérance au bruit.\n",
    "\n"
   ]
  },
  {
   "cell_type": "code",
   "execution_count": 4,
   "metadata": {},
   "outputs": [
    {
     "data": {
      "image/png": "[encoded data removed]",
      "text/plain": [
       "<Figure size 640x480 with 1 Axes>"
      ]
     },
     "metadata": {},
     "output_type": "display_data"
    }
   ],
   "source": [
    "def robbins_monro_algorithm(r, c, job_arrivals, p, epsilon0, gamma):\n",
    "    n = len(job_arrivals)\n",
    "    theta = np.zeros(N)  # Paramètre initial pour chaque classe\n",
    "    rewards = []\n",
    "    \n",
    "    for t in range(1, n):\n",
    "        epsilon_t = epsilon0 / (t**gamma)\n",
    "        job_class = np.random.choice(N, p=p)\n",
    "        reward = r[job_class]\n",
    "        \n",
    "        if job_arrivals[t] <= c:\n",
    "            theta[job_class] += epsilon_t * (reward - theta[job_class])\n",
    "        \n",
    "        rewards.append(np.sum(theta * p))  # Suivre la récompense moyenne\n",
    "    \n",
    "    return rewards\n",
    "\n",
    "# Exécuter avec epsilon0 = 1.0 et gamma = 0.6\n",
    "rewards_rm = robbins_monro_algorithm(r, c, job_arrivals, p, epsilon0=1.0, gamma=0.6)\n",
    "plt.plot(rewards_rm)\n",
    "plt.title(\"Récompenses moyennes avec pas décroissant (Robbins-Monro)\")\n",
    "plt.show()\n"
   ]
  },
  {
   "cell_type": "markdown",
   "metadata": {},
   "source": [
    "#### Tâche 3: Algorithme avec pas constant\n",
    "Ici, on maintient un pas constant pour l’algorithme, et on teste plusieurs valeurs pour ce pas.\n",
    "\n"
   ]
  },
  {
   "cell_type": "code",
   "execution_count": 5,
   "metadata": {},
   "outputs": [
    {
     "data": {
      "image/png": "[encoded data removed]",
      "text/plain": [
       "<Figure size 640x480 with 1 Axes>"
      ]
     },
     "metadata": {},
     "output_type": "display_data"
    }
   ],
   "source": [
    "def constant_stepsize_algorithm(r, c, job_arrivals, p, epsilon):\n",
    "    n = len(job_arrivals)\n",
    "    theta = np.zeros(N)  # Paramètre initial\n",
    "    rewards = []\n",
    "    \n",
    "    for t in range(n):\n",
    "        job_class = np.random.choice(N, p=p)\n",
    "        reward = r[job_class]\n",
    "        \n",
    "        if job_arrivals[t] <= c:\n",
    "            theta[job_class] += epsilon * (reward - theta[job_class])\n",
    "        \n",
    "        rewards.append(np.sum(theta * p))  # Suivre la récompense moyenne\n",
    "    \n",
    "    return rewards\n",
    "\n",
    "# Tester différentes valeurs de epsilon\n",
    "epsilons = [0.1, 0.5, 1.0]\n",
    "for epsilon in epsilons:\n",
    "    rewards_const = constant_stepsize_algorithm(r, c, job_arrivals, p, epsilon)\n",
    "    plt.plot(rewards_const, label=f\"Epsilon = {epsilon}\")\n",
    "\n",
    "plt.title(\"Récompenses moyennes avec pas constant\")\n",
    "plt.legend()\n",
    "plt.show()\n"
   ]
  },
  {
   "cell_type": "markdown",
   "metadata": {},
   "source": [
    "Tâche 4: Moyennes de Polyak\n",
    "Cette tâche consiste à utiliser les moyennes de Polyak pour stabiliser les résultats lorsque les pas sont décroissants.\n",
    "\n"
   ]
  },
  {
   "cell_type": "code",
   "execution_count": 6,
   "metadata": {},
   "outputs": [
    {
     "data": {
      "image/png": "[encoded data removed]",
      "text/plain": [
       "<Figure size 640x480 with 1 Axes>"
      ]
     },
     "metadata": {},
     "output_type": "display_data"
    }
   ],
   "source": [
    "def polyak_averages(r, c, job_arrivals, p, epsilon0, gamma):\n",
    "    n = len(job_arrivals)\n",
    "    theta = np.zeros(N)\n",
    "    avg_theta = np.zeros(N)\n",
    "    rewards = []\n",
    "    \n",
    "    for t in range(1, n):\n",
    "        epsilon_t = epsilon0 / (t**gamma)\n",
    "        job_class = np.random.choice(N, p=p)\n",
    "        reward = r[job_class]\n",
    "        \n",
    "        if job_arrivals[t] <= c:\n",
    "            theta[job_class] += epsilon_t * (reward - theta[job_class])\n",
    "        \n",
    "        avg_theta += (theta - avg_theta) / t\n",
    "        rewards.append(np.sum(avg_theta * p))  # Suivre la récompense moyenne\n",
    "    \n",
    "    return rewards\n",
    "\n",
    "# Exécuter avec les moyennes de Polyak\n",
    "rewards_polyak = polyak_averages(r, c, job_arrivals, p, epsilon0=1.0, gamma=0.6)\n",
    "plt.plot(rewards_polyak)\n",
    "plt.title(\"Récompenses moyennes avec Moyennes de Polyak\")\n",
    "plt.show()\n"
   ]
  }
 ],
 "metadata": {
  "kernelspec": {
   "display_name": "Python 3",
   "language": "python",
   "name": "python3"
  },
  "language_info": {
   "codemirror_mode": {
    "name": "ipython",
    "version": 3
   },
   "file_extension": ".py",
   "mimetype": "text/x-python",
   "name": "python",
   "nbconvert_exporter": "python",
   "pygments_lexer": "ipython3",
   "version": "3.9.0"
  }
 },
 "nbformat": 4,
 "nbformat_minor": 2
}
