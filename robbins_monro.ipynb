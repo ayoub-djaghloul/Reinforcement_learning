{
 "cells": [
  {
   "cell_type": "code",
   "execution_count": null,
   "metadata": {
    "vscode": {
     "languageId": "plaintext"
    }
   },
   "outputs": [],
   "source": [
    "import numpy as np\n",
    "\n",
    "# Paramètres de l'algorithme\n",
    "T = 1000  # Nombre d'épisodes\n",
    "N = 4  # Nombre de classes de job\n",
    "r = np.array([100, 50, 10, 1])  # Récompenses des jobs de chaque classe\n",
    "p = np.array([1/3, 1/12, 1/4, 1/3])  # Probabilités des classes\n",
    "c = 0.5 * 105  # Capacité du canal\n",
    "\n",
    "# Paramètres pour les pas décroissants\n",
    "epsilon_0 = 1.0\n",
    "gamma = 0.6\n",
    "m = 0\n",
    "\n",
    "# Initialisation\n",
    "d_m = 0.0  # Valeur initiale de d\n",
    "\n",
    "# Fonction pour générer les arrivées de jobs selon les classes et leurs récompenses\n",
    "def generate_job():\n",
    "    class_index = np.random.choice(N, p=p)\n",
    "    reward = r[class_index]\n",
    "    return reward\n",
    "\n",
    "# Fonction pour estimer Z(d_m) pour l'épisode m\n",
    "def estimate_Z(d_m, num_packets=100):\n",
    "    admitted_packets = 0\n",
    "    total_reward = 0\n",
    "    for _ in range(num_packets):\n",
    "        reward = generate_job()\n",
    "        # Adopter la politique de seuil\n",
    "        if reward >= d_m:\n",
    "            admitted_packets += 1\n",
    "            total_reward += reward\n",
    "    # Calcul de Z(d_m)\n",
    "    if admitted_packets > 0:\n",
    "        return total_reward / admitted_packets\n",
    "    else:\n",
    "        return 0  # Aucun paquet admis dans cet épisode\n",
    "\n",
    "# Boucle principale de l'algorithme\n",
    "for t in range(T):\n",
    "    # Pas décroissant pour l'épisode m\n",
    "    epsilon_m = epsilon_0 / ((m + 1) ** gamma)\n",
    "    \n",
    "    # Exécuter la politique pour l'épisode et estimer Z(d_m)\n",
    "    Z_dm = estimate_Z(d_m)\n",
    "    \n",
    "    # Mise à jour de d_m pour l'épisode suivant\n",
    "    d_m = d_m + epsilon_m * (c - Z_dm)\n",
    "    \n",
    "    # Incrémenter le compteur d'épisodes\n",
    "    m += 1\n",
    "    \n",
    "    # Affichage périodique pour suivre la convergence\n",
    "    if t % 100 == 0:\n",
    "        print(f\"Episode {t}, d_m: {d_m:.4f}, Z(d_m): {Z_dm:.4f}, epsilon_m: {epsilon_m:.4f}\")\n",
    "\n",
    "# Résultat final\n",
    "print(f\"Valeur estimée de d*: {d_m:.4f}\")\n"
   ]
  }
 ],
 "metadata": {
  "language_info": {
   "name": "python"
  }
 },
 "nbformat": 4,
 "nbformat_minor": 2
}
